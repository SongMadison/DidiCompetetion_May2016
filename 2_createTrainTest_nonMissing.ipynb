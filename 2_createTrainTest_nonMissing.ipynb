{
 "cells": [
  {
   "cell_type": "code",
   "execution_count": 519,
   "metadata": {
    "collapsed": false
   },
   "outputs": [],
   "source": [
    "import pandas as pd\n",
    "import numpy as np\n",
    "import matplotlib.pyplot as plt\n",
    "\n"
   ]
  },
  {
   "cell_type": "code",
   "execution_count": 520,
   "metadata": {
    "collapsed": false
   },
   "outputs": [],
   "source": [
    "## deal with train part:\n",
    "\n",
    "# fill in 0 where is missing value for GAP in the Orders\n",
    "train = pd.read_csv(\"trainGAP.csv\")\n",
    "train['DATE'] = pd.to_datetime(train['DATE'])\n",
    "DISTRICT_HASH = pd.DataFrame( {'DISTRICT_HASH': train['DISTRICT_HASH'].drop_duplicates(),\n",
    "                              'key':1})\n",
    "DATE = pd.DataFrame( {'DATE' : pd.date_range('20160101',periods = 21), 'key' : 1})\n",
    "SLOTID = pd.DataFrame( { 'SLOTID': range(144),'key':1})\n",
    "merged = pd.merge(DISTRICT_ID, DATE, on='key')\n",
    "merged = pd.merge(merged, SLOTID, on='key')\n",
    "len(merged['DATE'])\n",
    "merged = merged[['DISTRICT_HASH','DATE','SLOTID']]\n",
    "merged2 = pd.merge(merged,train, how='left', on = ['DISTRICT_HASH','DATE','SLOTID'])\n",
    "merged2['GAP']= merged2['GAP'].fillna(0)\n",
    "train = merged2\n",
    "train = train [['DISTRICT_HASH', 'DATE', 'SLOTID', 'GAP']]\n",
    "del merged, merged2\n",
    "\n"
   ]
  },
  {
   "cell_type": "code",
   "execution_count": 521,
   "metadata": {
    "collapsed": false
   },
   "outputs": [
    {
     "data": {
      "text/plain": [
       "0"
      ]
     },
     "execution_count": 521,
     "metadata": {},
     "output_type": "execute_result"
    }
   ],
   "source": [
    "#fill in the nearest-time value \n",
    "Weather = pd.read_csv('weather.csv')\n",
    "Weather[\"WEATHER\"] = Weather[\"WEATHER\"].astype(\"category\")\n",
    "Weather['DATE'] = pd.to_datetime(Weather['DATE'])\n",
    "Weahter = Weather.sort(columns = ['DATE','SLOTID'])\n",
    "DATE = pd.DataFrame( {'DATE' : pd.date_range('20160101',periods = 21), 'key' : 1})\n",
    "SLOTID = pd.DataFrame( { 'SLOTID': range(144),'key':1})\n",
    "merged = pd.merge(DATE,SLOTID, on='key')\n",
    "merged = merged[['DATE','SLOTID']]\n",
    "merged2 = pd.merge(merged,Weather, how = 'left',on= ['DATE','SLOTID'])\n",
    "\n",
    "isMissing = pd.isnull(merged2['WEATHER'])\n",
    "first = 0\n",
    "if isMissing[first]:\n",
    "    first = first + 1 \n",
    "for i in range(first):\n",
    "    merged2.set_value(1,'WEATHER',merged2.iloc[first,]['WEATHER'])\n",
    "    merged2.set_value(1,'TEMPERATURE',merged2.iloc[first,]['TEMPERATURE'])\n",
    "    merged2.set_value(1,'PM25',merged2.iloc[first,]['PM25'])\n",
    "for i in range(len(merged2['DATE'])):\n",
    "    if isMissing[i]:\n",
    "        merged2.set_value(i,'WEATHER',row['WEATHER'])\n",
    "        merged2.set_value(i,'TEMPERATURE',row['TEMPERATURE'])\n",
    "        merged2.set_value(i,'PM25', row['PM25'])\n",
    "Weather = merged2\n",
    "del merged, merged2\n",
    "isMissing = pd.isnull(weather['WEATHER'])\n",
    "isMissing.sum()"
   ]
  },
  {
   "cell_type": "code",
   "execution_count": 522,
   "metadata": {
    "collapsed": false
   },
   "outputs": [
    {
     "data": {
      "text/plain": [
       "6031"
      ]
     },
     "execution_count": 522,
     "metadata": {},
     "output_type": "execute_result"
    }
   ],
   "source": [
    "POI2 = pd.read_csv('POI2.csv')\n",
    "DistMapping = pd.read_csv('DistMapping.csv')\n",
    "Traffic = pd.read_csv(\"Traffic.csv\")\n",
    "Traffic['DATE'] = pd.to_datetime(Traffic['DATE'])\n",
    "Traffic.columns\n",
    "\n",
    "# fill the missing of the traffic\n",
    "DISTRICT_ID = pd.DataFrame( {'DISTRICT_HASH': train['DISTRICT_HASH'].drop_duplicates(),\n",
    "                              'key':1})\n",
    "DATE = pd.DataFrame( {'DATE' : pd.date_range('20160101',periods = 21), 'key' : 1})\n",
    "SLOTID = pd.DataFrame( { 'SLOTID': range(144),'key':1})\n",
    "merged = pd.merge(DISTRICT_HASH, DATE, on='key')\n",
    "merged = pd.merge(merged, SLOTID, on='key')\n",
    "merged = merged[['DISTRICT_HASH','DATE','SLOTID']]\n",
    "merged2= pd.merge(merged, Traffic, how ='left', on =['DISTRICT_HASH','DATE','SLOTID'] )\n",
    "len(merged2['DATE'])\n",
    "\n",
    "isMissing = pd.isnull(merged2['TJ_LEVEL1'])\n",
    "first = 0\n",
    "if isMissing[first]:\n",
    "    first = first + 1 \n",
    "merged2.set_value(1,'TJ_LEVEL1',merged2.iloc[first,]['TJ_LEVEL1'])\n",
    "merged2.set_value(1,'TJ_LEVEL2',merged2.iloc[first,]['TJ_LEVEL2'])\n",
    "merged2.set_value(1,'TJ_LEVEL3',merged2.iloc[first,]['TJ_LEVEL3'])\n",
    "merged2.set_value(1,'TJ_LEVEL4',merged2.iloc[first,]['TJ_LEVEL4'])  \n",
    "merged2.set_value(1,'TJ_TIME',merged2.iloc[first,]['TJ_TIME']) \n",
    "for i in range(len(merged2['DATE'])):\n",
    "    if isMissing[i]:\n",
    "        merged2.set_value(i,'TJ_LEVEL1',merged2.iloc[i-1,]['TJ_LEVEL1'])\n",
    "        merged2.set_value(i,'TJ_LEVEL2',merged2.iloc[i-1,]['TJ_LEVEL2'])\n",
    "        merged2.set_value(i,'TJ_LEVEL3',merged2.iloc[i-1,]['TJ_LEVEL3'])\n",
    "        merged2.set_value(i,'TJ_LEVEL4',merged2.iloc[i-1,]['TJ_LEVEL4'])  \n",
    "        merged2.set_value(i,'TJ_TIME',merged2.iloc[i-1,]['TJ_TIME'])\n",
    "Traffic = merged2\n",
    "del merged, merged2\n",
    "isMissing.sum()"
   ]
  },
  {
   "cell_type": "code",
   "execution_count": 523,
   "metadata": {
    "collapsed": false
   },
   "outputs": [],
   "source": [
    "#train, join tall the tables\n",
    "train1 = pd.merge(train, Weather, how = 'left', on = ['DATE','SLOTID'])\n",
    "train1 = pd.merge(train1,POI2, how = 'left', on = 'DISTRICT_HASH')\n",
    "train1 = pd.merge(DistMapping, train1, on = 'DISTRICT_HASH')\n",
    "train1 = pd.merge( train1, Traffic, how = 'left' ,on = ['DISTRICT_HASH','DATE','SLOTID'])\n",
    "train1 = train1.sort(columns = ['ID','DATE','SLOTID'])\n",
    "train1.to_csv(\"trainSet_nonMissing.csv\")"
   ]
  },
  {
   "cell_type": "code",
   "execution_count": null,
   "metadata": {
    "collapsed": false
   },
   "outputs": [],
   "source": [
    "\n"
   ]
  },
  {
   "cell_type": "code",
   "execution_count": 524,
   "metadata": {
    "collapsed": false
   },
   "outputs": [],
   "source": [
    "\n",
    "#creat the test  set \n",
    "\n",
    "test = pd.read_csv('testGAP.csv')\n",
    "test['DATE'] = pd.to_datetime(test['DATE'])\n",
    "test.sort(columns= ['DISTRICT_HASH','DATE','SLOTID'])\n",
    "DISTRICT_HASH_te = pd.DataFrame( {'DISTRICT_HASH': test['DISTRICT_HASH'].drop_duplicates(),\n",
    "                              'key':1})\n",
    "DATE_te = pd.DataFrame( {'DATE' : test['DATE'].drop_duplicates() , 'key' : 1})\n",
    "SLOTID_te = pd.DataFrame( { 'SLOTID': test['SLOTID'].drop_duplicates(),'key':1})\n",
    "merged = pd.merge(DISTRICT_HASH_te, DATE_te, on='key')\n",
    "merged = pd.merge(merged, SLOTID_te, on='key')\n",
    "\n",
    "merged = merged[['DISTRICT_HASH','DATE','SLOTID']]\n",
    "merged2 = pd.merge(merged,test, how='left', on = ['DISTRICT_HASH','DATE','SLOTID'])\n",
    "merged2['GAP']= merged2['GAP'].fillna(0)\n",
    "test = merged2\n",
    "test = test [['DISTRICT_HASH', 'DATE', 'SLOTID', 'GAP']]\n",
    "del merged, merged2\n"
   ]
  },
  {
   "cell_type": "code",
   "execution_count": 525,
   "metadata": {
    "collapsed": false
   },
   "outputs": [
    {
     "data": {
      "text/plain": [
       "0"
      ]
     },
     "execution_count": 525,
     "metadata": {},
     "output_type": "execute_result"
    }
   ],
   "source": [
    "#fill in missing values in weather  \n",
    "\n",
    "Weather_te = pd.read_csv('weather_test.csv')\n",
    "Weather_te[\"WEATHER\"] = Weather_te[\"WEATHER\"].astype(\"category\")\n",
    "Weather_te['DATE'] = pd.to_datetime(Weather_te['DATE'])\n",
    "Weahter_te = Weather.sort(columns = ['DATE','SLOTID'])\n",
    "DATE_te = pd.DataFrame( {'DATE' : Weather_te['DATE'].drop_duplicates() , 'key' : 1})\n",
    "SLOTID_te = pd.DataFrame( { 'SLOTID': Weather_te['SLOTID'].drop_duplicates(),'key':1})\n",
    "len(SLOTID_te)\n",
    "\n",
    "merged = pd.merge(DATE_te,SLOTID_te, on='key')\n",
    "merged = merged[['DATE','SLOTID']]\n",
    "merged2 = pd.merge(merged,Weather_te, how = 'left',on= ['DATE','SLOTID'])\n",
    "\n",
    "isMissing = pd.isnull(merged2['WEATHER'])\n",
    "first = 0\n",
    "if isMissing[first]:\n",
    "    first = first + 1 \n",
    "for i in range(first):\n",
    "    merged2.set_value(1,'WEATHER',merged2.iloc[first,]['WEATHER'])\n",
    "    merged2.set_value(1,'TEMPERATURE',merged2.iloc[first,]['TEMPERATURE'])\n",
    "    merged2.set_value(1,'PM25',merged2.iloc[first,]['PM25'])\n",
    "for i in range(len(merged2['DATE'])):\n",
    "    if isMissing[i]:\n",
    "        merged2.set_value(i,'WEATHER',row['WEATHER'])\n",
    "        merged2.set_value(i,'TEMPERATURE',row['TEMPERATURE'])\n",
    "        merged2.set_value(i,'PM25', row['PM25'])\n",
    "Weather_te = merged2\n",
    "del merged, merged2\n",
    "isMissing = pd.isnull(Weather_te['WEATHER'])\n",
    "isMissing.sum()"
   ]
  },
  {
   "cell_type": "code",
   "execution_count": 526,
   "metadata": {
    "collapsed": false
   },
   "outputs": [
    {
     "data": {
      "text/plain": [
       "0"
      ]
     },
     "execution_count": 526,
     "metadata": {},
     "output_type": "execute_result"
    }
   ],
   "source": [
    "POI2_te = pd.read_csv('POI2_test.csv')\n",
    "Traffic_te = pd.read_csv('traffic_test.csv')\n",
    "Traffic_te['DATE'] = pd.to_datetime(Traffic_te['DATE'])\n",
    "Traffic_te.columns\n",
    "\n",
    "# fill the missing of the traffic\n",
    "DISTRICT_ID = pd.DataFrame( {'DISTRICT_HASH': test['DISTRICT_HASH'].drop_duplicates(),\n",
    "                              'key':1})\n",
    "merged = pd.merge(DISTRICT_HASH_te, DATE_te, on='key')\n",
    "merged = pd.merge(merged, SLOTID_te, on='key')\n",
    "merged = merged[['DISTRICT_HASH','DATE','SLOTID']]\n",
    "merged2= pd.merge(merged, Traffic_te, how ='left', on =['DISTRICT_HASH','DATE','SLOTID'] )\n",
    "len(merged2['DATE'])\n",
    "\n",
    "isMissing = pd.isnull(merged2['TJ_LEVEL1'])\n",
    "first = 0\n",
    "if isMissing[first]:\n",
    "    first = first + 1 \n",
    "merged2.set_value(1,'TJ_LEVEL1',merged2.iloc[first,]['TJ_LEVEL1'])\n",
    "merged2.set_value(1,'TJ_LEVEL2',merged2.iloc[first,]['TJ_LEVEL2'])\n",
    "merged2.set_value(1,'TJ_LEVEL3',merged2.iloc[first,]['TJ_LEVEL3'])\n",
    "merged2.set_value(1,'TJ_LEVEL4',merged2.iloc[first,]['TJ_LEVEL4'])  \n",
    "merged2.set_value(1,'TJ_TIME',merged2.iloc[first,]['TJ_TIME']) \n",
    "for i in range(len(merged2['DATE'])):\n",
    "    if isMissing[i]:\n",
    "        merged2.set_value(i,'TJ_LEVEL1',merged2.iloc[i-1,]['TJ_LEVEL1'])\n",
    "        merged2.set_value(i,'TJ_LEVEL2',merged2.iloc[i-1,]['TJ_LEVEL2'])\n",
    "        merged2.set_value(i,'TJ_LEVEL3',merged2.iloc[i-1,]['TJ_LEVEL3'])\n",
    "        merged2.set_value(i,'TJ_LEVEL4',merged2.iloc[i-1,]['TJ_LEVEL4'])  \n",
    "        merged2.set_value(i,'TJ_TIME',merged2.iloc[i-1,]['TJ_TIME'])\n",
    "Traffic_te = merged2\n",
    "del merged, merged2\n",
    "isMissing = pd.isnull(Traffic_te['TJ_LEVEL1'])\n",
    "isMissing.sum()"
   ]
  },
  {
   "cell_type": "code",
   "execution_count": 527,
   "metadata": {
    "collapsed": false
   },
   "outputs": [
    {
     "data": {
      "text/plain": [
       "8910"
      ]
     },
     "execution_count": 527,
     "metadata": {},
     "output_type": "execute_result"
    }
   ],
   "source": [
    "test1 = pd.merge(test, Weather_te, how = 'left', on = ['DATE','SLOTID'])\n",
    "test1 = pd.merge(test1,POI2_te, how = 'left', on = 'DISTRICT_HASH')\n",
    "test1 = pd.merge(DistMapping, test1, on = 'DISTRICT_HASH')\n",
    "test1 = pd.merge( test1, Traffic_te, how = 'left' ,on = ['DISTRICT_HASH','DATE','SLOTID'])\n",
    "test1 = test1.sort(columns = ['ID','DATE','SLOTID'])\n",
    "test1.to_csv('testSet_nonMissing.csv')\n",
    "len(test1['DATE'])"
   ]
  }
 ],
 "metadata": {
  "kernelspec": {
   "display_name": "Python 2",
   "language": "python",
   "name": "python2"
  },
  "language_info": {
   "codemirror_mode": {
    "name": "ipython",
    "version": 2
   },
   "file_extension": ".py",
   "mimetype": "text/x-python",
   "name": "python",
   "nbconvert_exporter": "python",
   "pygments_lexer": "ipython2",
   "version": "2.7.7"
  }
 },
 "nbformat": 4,
 "nbformat_minor": 0
}
