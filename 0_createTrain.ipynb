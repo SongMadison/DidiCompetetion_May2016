{
 "cells": [
  {
   "cell_type": "code",
   "execution_count": 369,
   "metadata": {
    "collapsed": false
   },
   "outputs": [],
   "source": [
    "import pandas as pd\n",
    "import numpy as np\n",
    "import matplotlib.pyplot as plt\n",
    "\n"
   ]
  },
  {
   "cell_type": "code",
   "execution_count": 320,
   "metadata": {
    "collapsed": false
   },
   "outputs": [
    {
     "data": {
      "text/plain": [
       "0"
      ]
     },
     "execution_count": 320,
     "metadata": {},
     "output_type": "execute_result"
    }
   ],
   "source": [
    "def timeToSlot(times, initTime = pd.to_datetime('2016-01-01 00:00:00')):\n",
    "    res = (times-initTime).astype('timedelta64[s]')\n",
    "    return(res/600)\n",
    "    \n",
    "a = timeToSlot(weather.TIME)\n",
    "a = a.round().astype('int64')\n",
    "a = a.drop_duplicates()\n",
    "len(a)\n",
    "max(a)\n",
    "min(a)"
   ]
  },
  {
   "cell_type": "code",
   "execution_count": 466,
   "metadata": {
    "collapsed": false
   },
   "outputs": [],
   "source": [
    "# fill in 0 where is missing value for GAP in the Orders\n",
    "train = pd.read_csv(\"trainGAP.csv\")\n",
    "train['DATE'] = pd.to_datetime(train['DATE'])\n",
    "\n",
    "DISTRICT_HASH = pd.DataFrame( {'DISTRICT_HASH': train['DISTRICT_HASH'].drop_duplicates(),\n",
    "                              'key':1})\n",
    "DATE = pd.DataFrame( {'DATE' : pd.date_range('20160101',periods = 21), 'key' : 1})\n",
    "SLOTID = pd.DataFrame( { 'SLOTID': range(144),'key':1})\n",
    "merged = pd.merge(DISTRICT_ID, DATE, on='key')\n",
    "merged = pd.merge(merged, SLOTID, on='key')\n",
    "len(merged['DATE'])\n",
    "merged = merged[['DISTRICT_HASH','DATE','SLOTID']]\n",
    "merged2 = pd.merge(merged,train, how='left', on = ['DISTRICT_HASH','DATE','SLOTID'])\n",
    "merged2['GAP']= merged2['GAP'].fillna(0)\n",
    "train = merged2\n",
    "train = train [['DISTRICT_HASH', 'DATE', 'SLOTID', 'GAP']]\n",
    "del merged, merged2\n",
    "\n"
   ]
  },
  {
   "cell_type": "code",
   "execution_count": 446,
   "metadata": {
    "collapsed": false
   },
   "outputs": [
    {
     "data": {
      "text/plain": [
       "354"
      ]
     },
     "execution_count": 446,
     "metadata": {},
     "output_type": "execute_result"
    }
   ],
   "source": [
    "#fill in the nearest-time value \n",
    "Weather = pd.read_csv('weather.csv')\n",
    "Weather[\"WEATHER\"] = Weather[\"WEATHER\"].astype(\"category\")\n",
    "Weather['DATE'] = pd.to_datetime(Weather['DATE'])\n",
    "Weahter = Weather.sort(columns = ['DATE','SLOTID'])\n",
    "DATE = pd.DataFrame( {'DATE' : pd.date_range('20160101',periods = 21), 'key' : 1})\n",
    "SLOTID = pd.DataFrame( { 'SLOTID': range(144),'key':1})\n",
    "merged = pd.merge(DATE,SLOTID, on='key')\n",
    "merged = merged[['DATE','SLOTID']]\n",
    "merged2 = pd.merge(merged,Weather, how = 'left',on= ['DATE','SLOTID'])\n",
    "\n",
    "isMissing = pd.isnull(merged2['WEATHER'])\n",
    "first = 0\n",
    "if isMissing[first]:\n",
    "    first = first + 1 \n",
    "for i in range(first):\n",
    "    merged2.set_value(1,'WEATHER',merged2.iloc[first,]['WEATHER'])\n",
    "    merged2.set_value(1,'TEMPERATURE',merged2.iloc[first,]['TEMPERATURE'])\n",
    "    merged2.set_value(1,'PM25',merged2.iloc[first,]['PM25'])\n",
    "for i in range(len(merged2['DATE'])):\n",
    "    if isMissing[i]:\n",
    "        merged2.set_value(i,'WEATHER',row['WEATHER'])\n",
    "        merged2.set_value(i,'TEMPERATURE',row['TEMPERATURE'])\n",
    "        merged2.set_value(i,'PM25', row['PM25'])\n",
    "Weather = merged2\n",
    "del merged, merged2\n",
    "\n",
    "isMissing.sum()"
   ]
  },
  {
   "cell_type": "code",
   "execution_count": 445,
   "metadata": {
    "collapsed": false
   },
   "outputs": [
    {
     "data": {
      "text/plain": [
       "0"
      ]
     },
     "execution_count": 445,
     "metadata": {},
     "output_type": "execute_result"
    }
   ],
   "source": [
    "isMissing = pd.isnull(weather['WEATHER'])\n",
    "isMissing.sum()"
   ]
  },
  {
   "cell_type": "code",
   "execution_count": 447,
   "metadata": {
    "collapsed": false
   },
   "outputs": [
    {
     "data": {
      "text/plain": [
       "Index([u'DISTRICT_HASH', u'TJ_LEVEL1', u'TJ_LEVEL2', u'TJ_LEVEL3',\n",
       "       u'TJ_LEVEL4', u'TJ_TIME', u'DATE', u'SLOTID'],\n",
       "      dtype='object')"
      ]
     },
     "execution_count": 447,
     "metadata": {},
     "output_type": "execute_result"
    }
   ],
   "source": [
    "POI2 = pd.read_csv('POI2.csv')\n",
    "DistMapping = pd.read_csv('DistMapping.csv')\n",
    "Traffic = pd.read_csv(\"Traffic.csv\")\n",
    "Traffic['DATE'] = pd.to_datetime(Traffic['DATE'])\n",
    "Traffic.columns"
   ]
  },
  {
   "cell_type": "code",
   "execution_count": 448,
   "metadata": {
    "collapsed": false
   },
   "outputs": [
    {
     "data": {
      "text/plain": [
       "6031"
      ]
     },
     "execution_count": 448,
     "metadata": {},
     "output_type": "execute_result"
    }
   ],
   "source": [
    "# fill the missing of the traffic\n",
    "DISTRICT_ID = pd.DataFrame( {'DISTRICT_HASH': train['DISTRICT_HASH'].drop_duplicates(),\n",
    "                              'key':1})\n",
    "DATE = pd.DataFrame( {'DATE' : pd.date_range('20160101',periods = 21), 'key' : 1})\n",
    "SLOTID = pd.DataFrame( { 'SLOTID': range(144),'key':1})\n",
    "merged = pd.merge(DISTRICT_HASH, DATE, on='key')\n",
    "merged = pd.merge(merged, SLOTID, on='key')\n",
    "merged = merged[['DISTRICT_HASH','DATE','SLOTID']]\n",
    "merged2= pd.merge(merged, Traffic, how ='left', on =['DISTRICT_HASH','DATE','SLOTID'] )\n",
    "len(merged2['DATE'])\n",
    "\n",
    "isMissing = pd.isnull(merged2['TJ_LEVEL1'])\n",
    "first = 0\n",
    "if isMissing[first]:\n",
    "    first = first + 1 \n",
    "merged2.set_value(1,'TJ_LEVEL1',merged2.iloc[first,]['TJ_LEVEL1'])\n",
    "merged2.set_value(1,'TJ_LEVEL2',merged2.iloc[first,]['TJ_LEVEL2'])\n",
    "merged2.set_value(1,'TJ_LEVEL3',merged2.iloc[first,]['TJ_LEVEL3'])\n",
    "merged2.set_value(1,'TJ_LEVEL4',merged2.iloc[first,]['TJ_LEVEL4'])  \n",
    "merged2.set_value(1,'TJ_TIME',merged2.iloc[first,]['TJ_TIME']) \n",
    "for i in range(len(merged2['DATE'])):\n",
    "    if isMissing[i]:\n",
    "        merged2.set_value(i,'TJ_LEVEL1',merged2.iloc[i-1,]['TJ_LEVEL1'])\n",
    "        merged2.set_value(i,'TJ_LEVEL2',merged2.iloc[i-1,]['TJ_LEVEL2'])\n",
    "        merged2.set_value(i,'TJ_LEVEL3',merged2.iloc[i-1,]['TJ_LEVEL3'])\n",
    "        merged2.set_value(i,'TJ_LEVEL4',merged2.iloc[i-1,]['TJ_LEVEL4'])  \n",
    "        merged2.set_value(i,'TJ_TIME',merged2.iloc[i-1,]['TJ_TIME'])\n",
    "Traffic = merged2\n",
    "del merged, merged2\n",
    "isMissing.sum()\n"
   ]
  },
  {
   "cell_type": "code",
   "execution_count": 458,
   "metadata": {
    "collapsed": false
   },
   "outputs": [
    {
     "data": {
      "text/plain": [
       "0"
      ]
     },
     "execution_count": 458,
     "metadata": {},
     "output_type": "execute_result"
    }
   ],
   "source": [
    "isMissing = pd.isnull(Traffic['TJ_LEVEL1'])\n",
    "isMissing.sum()\n"
   ]
  },
  {
   "cell_type": "code",
   "execution_count": 467,
   "metadata": {
    "collapsed": false
   },
   "outputs": [
    {
     "data": {
      "text/plain": [
       "DISTRICT_HASH    0\n",
       "DATE             0\n",
       "SLOTID           0\n",
       "GAP              0\n",
       "dtype: int64"
      ]
     },
     "execution_count": 467,
     "metadata": {},
     "output_type": "execute_result"
    }
   ],
   "source": [
    "train1 = pd.merge(train, Weather, how = 'left', on = ['DATE','SLOTID'])\n",
    "train1 = pd.merge(train1,POI2, how = 'left', on = 'DISTRICT_HASH')\n",
    "train1 = pd.merge(DistMapping, train1, on = 'DISTRICT_HASH')\n",
    "train1 = pd.merge( train1, Traffic, how = 'left' ,on = ['DISTRICT_HASH','DATE','SLOTID'])\n",
    "\n",
    "\n",
    "pd.isnull(train1).sum()"
   ]
  },
  {
   "cell_type": "code",
   "execution_count": 470,
   "metadata": {
    "collapsed": false
   },
   "outputs": [
    {
     "data": {
      "text/plain": [
       "Index([u'DATE', u'SLOTID', u'GAP', u'WEATHER', u'TEMPERATURE', u'PM25',\n",
       "       u'POI17X4', u'POI4X15', u'POI17X3', u'POI17X2', \n",
       "       ...\n",
       "       u'POI20X9', u'POI20X8', u'POI6X3', u'POI8X2', u'POI8X3', u'POI1X1',\n",
       "       u'TJ_LEVEL1', u'TJ_LEVEL2', u'TJ_LEVEL3', u'TJ_LEVEL4'],\n",
       "      dtype='object', length=186)"
      ]
     },
     "execution_count": 470,
     "metadata": {},
     "output_type": "execute_result"
    }
   ],
   "source": [
    "feature_names = train1.columns[:]\n",
    "variables_removed = ['DISTRICT_HASH','ID','TJ_TIME']\n",
    "feature_names = feature_names[~ feature_names.isin(variables_removed)] # remove some IDs\n",
    "feature_names"
   ]
  },
  {
   "cell_type": "code",
   "execution_count": 465,
   "metadata": {
    "collapsed": false
   },
   "outputs": [
    {
     "data": {
      "text/plain": [
       "Index([u'DISTRICT_HASH', u'ID'], dtype='object')"
      ]
     },
     "execution_count": 465,
     "metadata": {},
     "output_type": "execute_result"
    }
   ],
   "source": []
  },
  {
   "cell_type": "code",
   "execution_count": 27,
   "metadata": {
    "collapsed": false
   },
   "outputs": [
    {
     "data": {
      "text/plain": [
       "Index([u'GAP', u'ID', u'DATE', u'SLOTID', u'WEATHER', u'PM25', u'TEMPERATURE',\n",
       "       u'TJ_LEVEL1', u'TJ_LEVEL2', u'TJ_LEVEL3', \n",
       "       ...\n",
       "       u'POI20X3', u'POI20X2', u'POI20X9', u'POI20X8', u'POI6X3', u'POI8X2',\n",
       "       u'POI8X3', u'POI1X1', u'ISWEEKEND', u'ISHOLIDAY'],\n",
       "      dtype='object', length=189)"
      ]
     },
     "execution_count": 27,
     "metadata": {},
     "output_type": "execute_result"
    }
   ],
   "source": [
    "test = "
   ]
  },
  {
   "cell_type": "code",
   "execution_count": 33,
   "metadata": {
    "collapsed": false
   },
   "outputs": [],
   "source": [
    "test=test.rename(columns = {'ID':'DISTRICT_ID'})"
   ]
  },
  {
   "cell_type": "code",
   "execution_count": 34,
   "metadata": {
    "collapsed": false
   },
   "outputs": [
    {
     "data": {
      "text/plain": [
       "Index([u'GAP', u'DISTRICT_ID', u'DATE', u'SLOTID', u'WEATHER', u'PM25',\n",
       "       u'TEMPERATURE', u'TJ_LEVEL1', u'TJ_LEVEL2', u'TJ_LEVEL3', \n",
       "       ...\n",
       "       u'POI20X3', u'POI20X2', u'POI20X9', u'POI20X8', u'POI6X3', u'POI8X2',\n",
       "       u'POI8X3', u'POI1X1', u'ISWEEKEND', u'ISHOLIDAY'],\n",
       "      dtype='object', length=189)"
      ]
     },
     "execution_count": 34,
     "metadata": {},
     "output_type": "execute_result"
    }
   ],
   "source": [
    "test.columns"
   ]
  },
  {
   "cell_type": "code",
   "execution_count": 39,
   "metadata": {
    "collapsed": false
   },
   "outputs": [],
   "source": [
    "test = test.sort(columns= ['DISTRICT_ID', 'DATE', 'SLOTID'])\n",
    "train = train.sort(columns= ['DISTRICT_ID', 'DATE', 'SLOTID'])\n"
   ]
  },
  {
   "cell_type": "code",
   "execution_count": 42,
   "metadata": {
    "collapsed": false
   },
   "outputs": [],
   "source": [
    "# create the first guess prediction: with the previous gap\n",
    "\n",
    "timeID = []\n",
    "distID = []\n",
    "pred = []\n",
    "#test1 = test[['ID','DATE','SLOTID','GAP']]\n",
    "for i in range(2,len(test['DISTRICT_ID']),3):\n",
    "    row = test.iloc[i,:]\n",
    "    distID.append(row['DISTRICT_ID'])\n",
    "    timeID.append(str(row['DATE']) + '-' +str(row['SLOTID']+2)) # \n",
    "    pred.append(row['GAP'])\n",
    "submitResult =pd.DataFrame({'distID': distID,\n",
    "                            'timeID': timeID,\n",
    "                            'GAP': pred}) \n",
    "submitResult = submitResult[['distID','timeID','GAP']]\n",
    "\n"
   ]
  },
  {
   "cell_type": "code",
   "execution_count": 50,
   "metadata": {
    "collapsed": false
   },
   "outputs": [
    {
     "data": {
      "text/plain": [
       "102680"
      ]
     },
     "execution_count": 50,
     "metadata": {},
     "output_type": "execute_result"
    }
   ],
   "source": [
    "GAP_tr = train['GAP']\n",
    "GAP_te = test['GAP']\n",
    "feature_names = train.columns[1:]\n",
    "IDs = ['DISTRICT_ID','DATE']\n",
    "feature_names = feature_names[~ feature_names.isin(IDs)] # remove some IDs\n",
    "feature_names[:]\n",
    "features_tr = train[feature_names]\n",
    "features_te = test[feature_names]\n",
    "features_tr['SLOTID'][144:288]\n",
    "\n",
    "#timeslot is continous\n",
    "len(train)"
   ]
  },
  {
   "cell_type": "code",
   "execution_count": 54,
   "metadata": {
    "collapsed": false
   },
   "outputs": [
    {
     "data": {
      "text/plain": [
       "144"
      ]
     },
     "execution_count": 54,
     "metadata": {},
     "output_type": "execute_result"
    }
   ],
   "source": [
    "len(train['DISTRICT_ID'].drop_duplicates()) #66\n",
    "len(train['DATE'].drop_duplicates()) # 21\n",
    "len(train['SLOTID'].drop_duplicates()) #144"
   ]
  },
  {
   "cell_type": "code",
   "execution_count": 55,
   "metadata": {
    "collapsed": false
   },
   "outputs": [
    {
     "data": {
      "text/plain": [
       "199584"
      ]
     },
     "execution_count": 55,
     "metadata": {},
     "output_type": "execute_result"
    }
   ],
   "source": [
    "66*21*144"
   ]
  },
  {
   "cell_type": "code",
   "execution_count": null,
   "metadata": {
    "collapsed": true
   },
   "outputs": [],
   "source": [
    "#need the continuous observations:"
   ]
  },
  {
   "cell_type": "code",
   "execution_count": 58,
   "metadata": {
    "collapsed": true
   },
   "outputs": [],
   "source": [
    "#fill in 0 when there is a missing observations:\n",
    "submit = pd.read_csv('./test_set_1/read_me_1.txt')"
   ]
  },
  {
   "cell_type": "code",
   "execution_count": null,
   "metadata": {
    "collapsed": true
   },
   "outputs": [],
   "source": []
  },
  {
   "cell_type": "code",
   "execution_count": null,
   "metadata": {
    "collapsed": true
   },
   "outputs": [],
   "source": []
  },
  {
   "cell_type": "code",
   "execution_count": null,
   "metadata": {
    "collapsed": true
   },
   "outputs": [],
   "source": []
  },
  {
   "cell_type": "code",
   "execution_count": null,
   "metadata": {
    "collapsed": false
   },
   "outputs": [],
   "source": []
  },
  {
   "cell_type": "code",
   "execution_count": null,
   "metadata": {
    "collapsed": true
   },
   "outputs": [],
   "source": []
  },
  {
   "cell_type": "code",
   "execution_count": null,
   "metadata": {
    "collapsed": true
   },
   "outputs": [],
   "source": []
  },
  {
   "cell_type": "code",
   "execution_count": null,
   "metadata": {
    "collapsed": true
   },
   "outputs": [],
   "source": []
  },
  {
   "cell_type": "code",
   "execution_count": null,
   "metadata": {
    "collapsed": false
   },
   "outputs": [],
   "source": []
  },
  {
   "cell_type": "code",
   "execution_count": null,
   "metadata": {
    "collapsed": false
   },
   "outputs": [],
   "source": [
    "\n"
   ]
  },
  {
   "cell_type": "code",
   "execution_count": null,
   "metadata": {
    "collapsed": true
   },
   "outputs": [],
   "source": []
  },
  {
   "cell_type": "code",
   "execution_count": 109,
   "metadata": {
    "collapsed": false
   },
   "outputs": [],
   "source": [
    "\n"
   ]
  },
  {
   "cell_type": "code",
   "execution_count": 7,
   "metadata": {
    "collapsed": false
   },
   "outputs": [
    {
     "data": {
      "text/html": [
       "<div style=\"max-height:1000px;max-width:1500px;overflow:auto;\">\n",
       "<table border=\"1\" class=\"dataframe\">\n",
       "  <thead>\n",
       "    <tr style=\"text-align: right;\">\n",
       "      <th></th>\n",
       "      <th>distID</th>\n",
       "      <th>timeID</th>\n",
       "      <th>GAP</th>\n",
       "    </tr>\n",
       "  </thead>\n",
       "  <tbody>\n",
       "    <tr>\n",
       "      <th>0</th>\n",
       "      <td>1</td>\n",
       "      <td>2016-01-22-46</td>\n",
       "      <td>5</td>\n",
       "    </tr>\n",
       "    <tr>\n",
       "      <th>1</th>\n",
       "      <td>1</td>\n",
       "      <td>2016-01-22-58</td>\n",
       "      <td>11</td>\n",
       "    </tr>\n",
       "    <tr>\n",
       "      <th>2</th>\n",
       "      <td>1</td>\n",
       "      <td>2016-01-22-70</td>\n",
       "      <td>1</td>\n",
       "    </tr>\n",
       "    <tr>\n",
       "      <th>3</th>\n",
       "      <td>1</td>\n",
       "      <td>2016-01-22-82</td>\n",
       "      <td>5</td>\n",
       "    </tr>\n",
       "    <tr>\n",
       "      <th>4</th>\n",
       "      <td>1</td>\n",
       "      <td>2016-01-22-94</td>\n",
       "      <td>3</td>\n",
       "    </tr>\n",
       "    <tr>\n",
       "      <th>5</th>\n",
       "      <td>1</td>\n",
       "      <td>2016-01-22-106</td>\n",
       "      <td>3</td>\n",
       "    </tr>\n",
       "    <tr>\n",
       "      <th>6</th>\n",
       "      <td>1</td>\n",
       "      <td>2016-01-22-118</td>\n",
       "      <td>7</td>\n",
       "    </tr>\n",
       "    <tr>\n",
       "      <th>7</th>\n",
       "      <td>1</td>\n",
       "      <td>2016-01-22-130</td>\n",
       "      <td>8</td>\n",
       "    </tr>\n",
       "    <tr>\n",
       "      <th>8</th>\n",
       "      <td>1</td>\n",
       "      <td>2016-01-22-142</td>\n",
       "      <td>12</td>\n",
       "    </tr>\n",
       "    <tr>\n",
       "      <th>9</th>\n",
       "      <td>1</td>\n",
       "      <td>2016-01-24-68</td>\n",
       "      <td>9</td>\n",
       "    </tr>\n",
       "  </tbody>\n",
       "</table>\n",
       "</div>"
      ],
      "text/plain": [
       "   distID          timeID  GAP\n",
       "0       1   2016-01-22-46    5\n",
       "1       1   2016-01-22-58   11\n",
       "2       1   2016-01-22-70    1\n",
       "3       1   2016-01-22-82    5\n",
       "4       1   2016-01-22-94    3\n",
       "5       1  2016-01-22-106    3\n",
       "6       1  2016-01-22-118    7\n",
       "7       1  2016-01-22-130    8\n",
       "8       1  2016-01-22-142   12\n",
       "9       1   2016-01-24-68    9"
      ]
     },
     "execution_count": 7,
     "metadata": {},
     "output_type": "execute_result"
    }
   ],
   "source": [
    "submitResult.dtypes\n",
    "submitResult.iloc[0:10,:]"
   ]
  },
  {
   "cell_type": "code",
   "execution_count": 5,
   "metadata": {
    "collapsed": false
   },
   "outputs": [],
   "source": []
  },
  {
   "cell_type": "code",
   "execution_count": 133,
   "metadata": {
    "collapsed": false
   },
   "outputs": [],
   "source": [
    "submitResult.to_csv(\"result1.csv\")"
   ]
  },
  {
   "cell_type": "code",
   "execution_count": 73,
   "metadata": {
    "collapsed": false
   },
   "outputs": [],
   "source": [
    "from math import fabs \n",
    "def Accuracy (GAP, pred):\n",
    "    s = 0;\n",
    "    for i in range(len(GAP)):\n",
    "        if GAP[i] > 0:\n",
    "            s = s + fabs( (GAP[i]-pred[i])*1.0/GAP[i])\n",
    "    return s/len(GAP) \n",
    "\n",
    "\n",
    "        "
   ]
  },
  {
   "cell_type": "code",
   "execution_count": 80,
   "metadata": {
    "collapsed": false
   },
   "outputs": [
    {
     "ename": "NameError",
     "evalue": "name 'cross_val_score' is not defined",
     "output_type": "error",
     "traceback": [
      "\u001b[0;31m---------------------------------------------------------------------------\u001b[0m",
      "\u001b[0;31mNameError\u001b[0m                                 Traceback (most recent call last)",
      "\u001b[0;32m<ipython-input-80-aaa81707d2c3>\u001b[0m in \u001b[0;36m<module>\u001b[0;34m()\u001b[0m\n\u001b[1;32m      3\u001b[0m \u001b[0mclf\u001b[0m \u001b[0;34m=\u001b[0m \u001b[0mtree\u001b[0m\u001b[0;34m.\u001b[0m\u001b[0mDecisionTreeRegressor\u001b[0m\u001b[0;34m(\u001b[0m\u001b[0;34m)\u001b[0m\u001b[0;34m\u001b[0m\u001b[0m\n\u001b[1;32m      4\u001b[0m \u001b[0mclf\u001b[0m \u001b[0;34m=\u001b[0m \u001b[0mclf\u001b[0m\u001b[0;34m.\u001b[0m\u001b[0mfit\u001b[0m\u001b[0;34m(\u001b[0m\u001b[0mfeatures_tr\u001b[0m\u001b[0;34m,\u001b[0m \u001b[0mGAP_tr\u001b[0m\u001b[0;34m)\u001b[0m\u001b[0;34m\u001b[0m\u001b[0m\n\u001b[0;32m----> 5\u001b[0;31m \u001b[0mscores\u001b[0m \u001b[0;34m=\u001b[0m \u001b[0mcross_val_score\u001b[0m\u001b[0;34m(\u001b[0m\u001b[0mclf\u001b[0m\u001b[0;34m,\u001b[0m \u001b[0mX\u001b[0m\u001b[0;34m,\u001b[0m \u001b[0my\u001b[0m\u001b[0;34m)\u001b[0m\u001b[0;34m\u001b[0m\u001b[0m\n\u001b[0m\u001b[1;32m      6\u001b[0m \u001b[0mypred_tree\u001b[0m \u001b[0;34m=\u001b[0m \u001b[0mclf\u001b[0m\u001b[0;34m.\u001b[0m\u001b[0mpredict\u001b[0m\u001b[0;34m(\u001b[0m\u001b[0mfeatures_te\u001b[0m\u001b[0;34m)\u001b[0m\u001b[0;34m\u001b[0m\u001b[0m\n\u001b[1;32m      7\u001b[0m \u001b[0mAccuracy\u001b[0m\u001b[0;34m(\u001b[0m\u001b[0mGAP_te\u001b[0m\u001b[0;34m,\u001b[0m\u001b[0mypred_tree\u001b[0m\u001b[0;34m)\u001b[0m\u001b[0;34m\u001b[0m\u001b[0m\n",
      "\u001b[0;31mNameError\u001b[0m: name 'cross_val_score' is not defined"
     ]
    }
   ],
   "source": [
    "from sklearn import tree\n",
    "\n",
    "clf = tree.DecisionTreeRegressor()\n",
    "clf = clf.fit(features_tr, GAP_tr)\n",
    "scores = cross_val_score(clf, X, y)\n",
    "ypred_tree = clf.predict(features_te)\n",
    "Accuracy(GAP_te,ypred_tree)\n",
    "scores"
   ]
  },
  {
   "cell_type": "code",
   "execution_count": 79,
   "metadata": {
    "collapsed": false
   },
   "outputs": [
    {
     "data": {
      "text/plain": [
       "1.507444550992227"
      ]
     },
     "execution_count": 79,
     "metadata": {},
     "output_type": "execute_result"
    }
   ],
   "source": [
    "from sklearn.cross_validation import cross_val_score\n",
    "from sklearn.tree import DecisionTreeRegressor\n",
    "clf = DecisionTreeRegressor(max_depth=None, min_samples_split=5, \n",
    "                             random_state=0)\n",
    "clf = clf.fit(features_tr, GAP_tr)\n",
    "ypred_dt = clf.predict(features_te)\n",
    "ypred[:10]\n",
    "Accuracy(GAP_te,ypred_dt)"
   ]
  },
  {
   "cell_type": "code",
   "execution_count": 77,
   "metadata": {
    "collapsed": false
   },
   "outputs": [
    {
     "data": {
      "text/plain": [
       "0.8709405503389853"
      ]
     },
     "execution_count": 77,
     "metadata": {},
     "output_type": "execute_result"
    }
   ],
   "source": [
    "from sklearn.ensemble import RandomForestClassifier\n"
   ]
  }
 ],
 "metadata": {
  "kernelspec": {
   "display_name": "Python 2",
   "language": "python",
   "name": "python2"
  },
  "language_info": {
   "codemirror_mode": {
    "name": "ipython",
    "version": 2
   },
   "file_extension": ".py",
   "mimetype": "text/x-python",
   "name": "python",
   "nbconvert_exporter": "python",
   "pygments_lexer": "ipython2",
   "version": "2.7.7"
  }
 },
 "nbformat": 4,
 "nbformat_minor": 0
}
